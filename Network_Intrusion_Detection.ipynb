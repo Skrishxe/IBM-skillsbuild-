{
 "cells": [
  {
   "cell_type": "code",
   "execution_count": null,
   "id": "42b279a3-70dc-41e5-9862-3875a50913e2",
   "metadata": {},
   "outputs": [],
   "source": [
    "import requests\n",
    "\n",
    "# NOTE: you must manually set API_KEY below using information retrieved from your IBM Cloud account (https://eu-gb.dataplatform.cloud.ibm.com/docs/content/wsj/analyze-data/ml-authentication.html?context=cpdaas)\n",
    "API_KEY = \"uB7EcblK7ZKQwAd7kt8ZIDrbvNsoS6HLo2bJOGQ5X1oH\"\n",
    "token_response = requests.post('https://iam.cloud.ibm.com/identity/token', data={\"apikey\": API_KEY, \"grant_type\": 'urn:ibm:params:oauth:grant-type:apikey'})\n",
    "mltoken = token_response.json()[\"access_token\"]\n",
    "\n",
    "header = {'Content-Type': 'application/json', 'Authorization': 'Bearer ' + mltoken}\n",
    "\n",
    "# NOTE:  manually define and pass the array(s) of values to be scored in the next line\n",
    "payload_scoring = {\"input_data\": [\n",
    "\t{\n",
    "\t\t\"fields\": [15,16,48,49],\n",
    "\t\t\"values\": [17,156,15,156, 75,15,156,18]\n",
    "\t}\n",
    "]}\n",
    "\n",
    "response_scoring = requests.post('https://private.eu-gb.ml.cloud.ibm.com/ml/v4/deployments/79a79df0-ab49-4408-b5ea-4a871b613cf8/predictions?version=2021-05-01', json=payload_scoring,\n",
    " headers={'Authorization': 'Bearer ' + mltoken})\n",
    "\n",
    "print(\"Scoring response\")\n",
    "try:\n",
    "    print(response_scoring.json())\n",
    "except ValueError:\n",
    "    print(response_scoring.text)\n",
    "except Exception as e:\n",
    "    print(f\"An unexpected error occurred: {e}\")"
   ]
  },
  {
   "cell_type": "code",
   "execution_count": null,
   "id": "d1dbbaf0-4ffa-4ac1-b016-d88efa924834",
   "metadata": {},
   "outputs": [],
   "source": []
  }
 ],
 "metadata": {
  "kernelspec": {
   "display_name": "Python 3 (ipykernel)",
   "language": "python",
   "name": "python3"
  },
  "language_info": {
   "codemirror_mode": {
    "name": "ipython",
    "version": 3
   },
   "file_extension": ".py",
   "mimetype": "text/x-python",
   "name": "python",
   "nbconvert_exporter": "python",
   "pygments_lexer": "ipython3",
   "version": "3.12.7"
  }
 },
 "nbformat": 4,
 "nbformat_minor": 5
}
